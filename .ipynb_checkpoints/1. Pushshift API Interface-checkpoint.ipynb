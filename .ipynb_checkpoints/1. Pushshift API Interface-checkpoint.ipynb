{
 "cells": [
  {
   "cell_type": "markdown",
   "metadata": {},
   "source": [
    "# Pulling Reddit Data Pushshift API"
   ]
  },
  {
   "cell_type": "code",
   "execution_count": 57,
   "metadata": {},
   "outputs": [],
   "source": [
    "# Import Library\n",
    "from bs4 import BeautifulSoup\n",
    "import pandas as pd\n",
    "import requests\n",
    "import json\n",
    "from time import time, mktime\n",
    "from datetime import datetime"
   ]
  },
  {
   "cell_type": "markdown",
   "metadata": {},
   "source": [
    "### Define Functions"
   ]
  },
  {
   "cell_type": "code",
   "execution_count": 97,
   "metadata": {},
   "outputs": [],
   "source": [
    "# Convert Year, Month, Day tuples to UTC Time Object\n",
    "def convert_date(year, month, day):\n",
    "    \n",
    "    t = datetime(year,month,day)\n",
    "    utc_str = str(mktime(t.timetuple())).rstrip(\"0\").rstrip(\".\")\n",
    "    return utc_str"
   ]
  },
  {
   "cell_type": "code",
   "execution_count": 109,
   "metadata": {},
   "outputs": [],
   "source": [
    "# Single API pull, specifying date range and subreddit\n",
    "def getPushshiftData(after, before, sub):\n",
    "    url = 'https://api.pushshift.io/reddit/search/submission/?title='+'&size=1000&after='+str(after)+'&before='+str(before)+'&subreddit='+str(sub)\n",
    "    res = requests.get(url)\n",
    "    data = res.json()\n",
    "    posts = data['data']\n",
    "    df = pd.DataFrame(posts)\n",
    "    \n",
    "    return df"
   ]
  },
  {
   "cell_type": "code",
   "execution_count": 110,
   "metadata": {},
   "outputs": [],
   "source": [
    "# Call API function for entire date range\n",
    "\n",
    "def create_df(after, before, sub):\n",
    "\n",
    "    # Call functions and add to DataFrame\n",
    "    data = getPushshiftData(after, before, sub)\n",
    "    # Create empty data frame to fill with each pull\n",
    "    result = pd.DataFrame()\n",
    "\n",
    "    # Loop over data, pulling in 1000 posts in each iteration\n",
    "    while len(data) > 0:\n",
    "\n",
    "    # Save a local version of a selected subset of API data and append to results\n",
    "        loop_df = data[['title', 'created_utc', 'subreddit',\n",
    "                        'score', 'selftext', 'num_comments']]\n",
    "        result = result.append(loop_df)\n",
    "      \n",
    "    # Change the date to get next 1000 posts in data range\n",
    "        after = data['created_utc'][data.shape[0]-1]\n",
    "    \n",
    "    # Call function on next set of posts\n",
    "        data = getPushshiftData(after, before, sub)\n",
    "    # Save results to Data Folder\n",
    "    result.to_csv(f'./data/{sub}.csv')\n",
    "\n"
   ]
  },
  {
   "cell_type": "code",
   "execution_count": 106,
   "metadata": {},
   "outputs": [],
   "source": [
    "# Choose Subreddits\n",
    "       \n",
    "subreddits = ['listentothis', 'hiphopheads']\n",
    "\n",
    "# Choose Date Range\n",
    "\n",
    "after  = convert_date(2020, 1,  1)\n",
    "before = convert_date(2020, 3, 25)"
   ]
  },
  {
   "cell_type": "code",
   "execution_count": 107,
   "metadata": {},
   "outputs": [
    {
     "name": "stdout",
     "output_type": "stream",
     "text": [
      "listentothis\n",
      "hiphopheads\n"
     ]
    }
   ],
   "source": [
    "# Download subreddit\n",
    "\n",
    "for sub in subreddits:\n",
    "    print(sub)\n",
    "    create_df(after, before, sub)"
   ]
  }
 ],
 "metadata": {
  "kernelspec": {
   "display_name": "Python 3",
   "language": "python",
   "name": "python3"
  },
  "language_info": {
   "codemirror_mode": {
    "name": "ipython",
    "version": 3
   },
   "file_extension": ".py",
   "mimetype": "text/x-python",
   "name": "python",
   "nbconvert_exporter": "python",
   "pygments_lexer": "ipython3",
   "version": "3.7.4"
  }
 },
 "nbformat": 4,
 "nbformat_minor": 2
}
